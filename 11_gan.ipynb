{
 "cells": [
  {
   "cell_type": "markdown",
   "metadata": {},
   "source": [
    "# Generative Adversarial Networks\n",
    "\n",
    "This notebook implements a very basic GAN with MLPs for the 2 networks."
   ]
  },
  {
   "cell_type": "code",
   "execution_count": 1,
   "metadata": {
    "collapsed": true
   },
   "outputs": [],
   "source": [
    "%matplotlib inline\n",
    "\n",
    "import tensorflow as tf\n",
    "import numpy as np\n",
    "import matplotlib.pyplot as plt\n",
    "from tensorflow.examples.tutorials.mnist import input_data"
   ]
  },
  {
   "cell_type": "code",
   "execution_count": 2,
   "metadata": {
    "collapsed": false
   },
   "outputs": [
    {
     "name": "stdout",
     "output_type": "stream",
     "text": [
      "Extracting MNIST_data/train-images-idx3-ubyte.gz\n",
      "Extracting MNIST_data/train-labels-idx1-ubyte.gz\n",
      "Extracting MNIST_data/t10k-images-idx3-ubyte.gz\n",
      "Extracting MNIST_data/t10k-labels-idx1-ubyte.gz\n"
     ]
    }
   ],
   "source": [
    "mnist = input_data.read_data_sets(\"MNIST_data/\")\n",
    "images = mnist.train.images"
   ]
  },
  {
   "cell_type": "markdown",
   "metadata": {},
   "source": [
    "## Weight initialisation\n",
    "\n",
    "The weights will be initiliased using the Xavier initialisation method [1]. In this case, this is just a Gaussian distribution with a custom standard deviation: the standard deviation is inversely proportional to the number of neurons feeding into the neuron.\n",
    "\n",
    "$$ \\mathbf{w}_i \\sim \\mathcal{N}(0, \\frac{1}{n_{i-1}}) $$\n",
    "\n",
    "where $n_{i-1}$ is the number of inputs that feed into the current neuron.\n",
    "\n",
    "I also tried with regular Gaussian (i.e. constant $\\sigma$) and with uniform distribution, but I did not manage to get the network learning.\n",
    "\n",
    "[1] *Glorot, Xavier, and Yoshua Bengio. \"Understanding the difficulty of training deep feedforward neural networks.\" Aistats. Vol. 9. 2010.*"
   ]
  },
  {
   "cell_type": "code",
   "execution_count": 3,
   "metadata": {
    "collapsed": true
   },
   "outputs": [],
   "source": [
    "def xavier_initializer(shape):\n",
    "    return tf.random_normal(shape=shape, stddev=1/shape[0])"
   ]
  },
  {
   "cell_type": "markdown",
   "metadata": {},
   "source": [
    "## Architecture"
   ]
  },
  {
   "cell_type": "code",
   "execution_count": 4,
   "metadata": {
    "collapsed": true
   },
   "outputs": [],
   "source": [
    "# Generator\n",
    "z_size = 100 # Latent vector dimension\n",
    "g_w1_size = 400 \n",
    "g_out_size = 28 * 28\n",
    "\n",
    "# Discriminator\n",
    "x_size = 28 * 28\n",
    "d_w1_size = 400\n",
    "d_out_size = 1"
   ]
  },
  {
   "cell_type": "code",
   "execution_count": 5,
   "metadata": {
    "collapsed": true
   },
   "outputs": [],
   "source": [
    "z = tf.placeholder('float', shape=(None, z_size))\n",
    "X = tf.placeholder('float', shape=(None, x_size))"
   ]
  },
  {
   "cell_type": "markdown",
   "metadata": {},
   "source": [
    "## Weights"
   ]
  },
  {
   "cell_type": "code",
   "execution_count": 6,
   "metadata": {
    "collapsed": true
   },
   "outputs": [],
   "source": [
    "g_weights = {\n",
    "    'w1': tf.Variable(xavier_initializer(shape=(z_size, g_w1_size))),\n",
    "    'b1': tf.Variable(tf.zeros(shape=[g_w1_size])),\n",
    "    'out': tf.Variable(xavier_initializer(shape=(g_w1_size, g_out_size))),\n",
    "    'b2': tf.Variable(tf.zeros(shape=[g_out_size])),\n",
    "}\n",
    "\n",
    "d_weights ={\n",
    "    'w1': tf.Variable(xavier_initializer(shape=(x_size, d_w1_size))),\n",
    "    'b1': tf.Variable(tf.zeros(shape=[d_w1_size])),\n",
    "    'out': tf.Variable(xavier_initializer(shape=(d_w1_size, d_out_size))),\n",
    "    'b2': tf.Variable(tf.zeros(shape=[d_out_size])),\n",
    "}"
   ]
  },
  {
   "cell_type": "markdown",
   "metadata": {},
   "source": [
    "## Models\n",
    "\n",
    "The models were chosen to be very simple, so just an MLP with 1 hidden layer and 1 output layer."
   ]
  },
  {
   "cell_type": "code",
   "execution_count": 7,
   "metadata": {
    "collapsed": false
   },
   "outputs": [],
   "source": [
    "def G(z, w=g_weights):\n",
    "    h1 = tf.nn.relu(tf.matmul(z, w['w1']) + w['b1'])\n",
    "    return tf.sigmoid(tf.matmul(h1, w['out']) + w['b2'])\n",
    "\n",
    "def D(x, w=d_weights):\n",
    "    h1 = tf.nn.relu(tf.matmul(x, w['w1']) + w['b1'])\n",
    "    return tf.sigmoid(tf.matmul(h1, w['out']) + w['b2'])"
   ]
  },
  {
   "cell_type": "markdown",
   "metadata": {},
   "source": [
    "## Latent distribution\n",
    "\n",
    "This function generates a prior for G."
   ]
  },
  {
   "cell_type": "code",
   "execution_count": 8,
   "metadata": {
    "collapsed": true
   },
   "outputs": [],
   "source": [
    "def generate_z(n=1):\n",
    "    return np.random.normal(size=(n, z_size))"
   ]
  },
  {
   "cell_type": "code",
   "execution_count": 9,
   "metadata": {
    "collapsed": false
   },
   "outputs": [],
   "source": [
    "sample = G(z) # To be called during session"
   ]
  },
  {
   "cell_type": "markdown",
   "metadata": {},
   "source": [
    "## Cost\n",
    "\n",
    "The cost functions are the ones used in the original GAN paper [2], using the suggestion of switching the loss for G from minimising $\\frac{1}{m}\\sum_{i=1}^m(1-D(G(\\mathbf{z}))$ to maximising $\\frac{1}{m}\\sum_{i=1}^m(D(G(\\mathbf{z}))$.\n",
    "\n",
    "Note that because both need to be maximised, and TF is designed to minimise, we take the negative values below.\n",
    "\n",
    "\n",
    "[2] *Goodfellow, Ian, et al. \"Generative adversarial nets.\" Advances in neural information processing systems. 2014.*\n"
   ]
  },
  {
   "cell_type": "code",
   "execution_count": 10,
   "metadata": {
    "collapsed": false
   },
   "outputs": [],
   "source": [
    "G_objective = -tf.reduce_mean(tf.log(D(G(z))))\n",
    "D_objective = -tf.reduce_mean(tf.log(D(X)) + tf.log(1 - D(G(z))))"
   ]
  },
  {
   "cell_type": "markdown",
   "metadata": {},
   "source": [
    "## Optimisation\n",
    "\n",
    "Note that each of the optimiser takes a `var_list` argument to only consider the variables provided. This is because we don't want D to train G when D is trained, but rather freeze the weights from G and only concern about D (and the same for G)."
   ]
  },
  {
   "cell_type": "code",
   "execution_count": 11,
   "metadata": {
    "collapsed": false
   },
   "outputs": [],
   "source": [
    "G_opt = tf.train.AdamOptimizer().minimize(\n",
    "    G_objective, var_list=g_weights.values())\n",
    "D_opt = tf.train.AdamOptimizer().minimize(\n",
    "    D_objective, var_list=d_weights.values())"
   ]
  },
  {
   "cell_type": "markdown",
   "metadata": {},
   "source": [
    "## Training"
   ]
  },
  {
   "cell_type": "code",
   "execution_count": 13,
   "metadata": {
    "collapsed": false
   },
   "outputs": [
    {
     "data": {
      "image/png": "[encoded data removed]",
      "text/plain": [
       "<matplotlib.figure.Figure at 0x7f568f1aff28>"
      ]
     },
     "metadata": {},
     "output_type": "display_data"
    }
   ],
   "source": [
    "# Hyper-parameters\n",
    "epochs = 50000\n",
    "batch_size = 128\n",
    "\n",
    "# Session\n",
    "with tf.Session() as sess:\n",
    "    sess.run(tf.global_variables_initializer())\n",
    "    \n",
    "    for _ in range(epochs):\n",
    "        sess.run(G_opt, feed_dict={\n",
    "            z: generate_z(batch_size)            \n",
    "        })\n",
    "        sess.run(D_opt, feed_dict={\n",
    "            X: images[np.random.choice(range(len(images)), batch_size)].reshape(batch_size, x_size),\n",
    "            z: generate_z(batch_size),\n",
    "        })\n",
    "\n",
    "    # Show a random image\n",
    "    image = sess.run(sample, feed_dict={z:generate_z()})\n",
    "    plt.imshow(image.reshape(28, 28), cmap='gray')"
   ]
  }
 ],
 "metadata": {
  "kernelspec": {
   "display_name": "Python 3",
   "language": "python",
   "name": "python3"
  },
  "language_info": {
   "codemirror_mode": {
    "name": "ipython",
    "version": 3
   },
   "file_extension": ".py",
   "mimetype": "text/x-python",
   "name": "python",
   "nbconvert_exporter": "python",
   "pygments_lexer": "ipython3",
   "version": "3.5.2"
  }
 },
 "nbformat": 4,
 "nbformat_minor": 2
}
